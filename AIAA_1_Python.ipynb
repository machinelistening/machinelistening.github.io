{
 "cells": [
  {
   "cell_type": "markdown",
   "id": "b3591304",
   "metadata": {},
   "source": [
    "# AI-based Audio Analysis of Music and Soundscapes\n",
    "\n",
    "Dr. Jakob Abeßer (jakob.abesser@idmt.fraunhofer.de), 2022\n",
    "\n",
    "## Fundamentals of Python Programming"
   ]
  },
  {
   "cell_type": "code",
   "execution_count": 53,
   "id": "9e7f20f4",
   "metadata": {},
   "outputs": [],
   "source": [
    "import numpy as np\n",
    "import matplotlib.pyplot as plt"
   ]
  },
  {
   "cell_type": "markdown",
   "id": "ad581dfb",
   "metadata": {},
   "source": [
    "### Python Basics\n",
    "\n",
    "#### Variables"
   ]
  },
  {
   "cell_type": "code",
   "execution_count": 1,
   "id": "ba59fb73",
   "metadata": {},
   "outputs": [
    {
     "name": "stdout",
     "output_type": "stream",
     "text": [
      "12\n",
      "Hello World\n"
     ]
    }
   ],
   "source": [
    "x = 12\n",
    "print(x)\n",
    "\n",
    "y = \"Hello World\"\n",
    "print(y)"
   ]
  },
  {
   "cell_type": "code",
   "execution_count": 2,
   "id": "d01eb48a",
   "metadata": {},
   "outputs": [
    {
     "name": "stdout",
     "output_type": "stream",
     "text": [
      "21.2\n"
     ]
    }
   ],
   "source": [
    "good_variable_name = 21.2\n",
    "print(good_variable_name)"
   ]
  },
  {
   "cell_type": "code",
   "execution_count": 3,
   "id": "0cfc55e1",
   "metadata": {},
   "outputs": [
    {
     "ename": "SyntaxError",
     "evalue": "invalid syntax (<ipython-input-3-5522ef5f73cb>, line 2)",
     "output_type": "error",
     "traceback": [
      "\u001b[1;36m  File \u001b[1;32m\"<ipython-input-3-5522ef5f73cb>\"\u001b[1;36m, line \u001b[1;32m2\u001b[0m\n\u001b[1;33m    1bad_name_with_number = 12  # this will raise a SyntaxError\u001b[0m\n\u001b[1;37m                        ^\u001b[0m\n\u001b[1;31mSyntaxError\u001b[0m\u001b[1;31m:\u001b[0m invalid syntax\n"
     ]
    }
   ],
   "source": [
    "# this will not work since the variable has a number as first character\n",
    "1bad_name_with_number = 12  # this will raise a SyntaxError"
   ]
  },
  {
   "cell_type": "markdown",
   "id": "46897d26",
   "metadata": {},
   "source": [
    "#### Access type"
   ]
  },
  {
   "cell_type": "code",
   "execution_count": 4,
   "id": "da73ea5c",
   "metadata": {},
   "outputs": [
    {
     "name": "stdout",
     "output_type": "stream",
     "text": [
      "<class 'int'>\n"
     ]
    }
   ],
   "source": [
    "a = 12\n",
    "print(type(a))  # this is an integer"
   ]
  },
  {
   "cell_type": "code",
   "execution_count": 5,
   "id": "8b0fd80a",
   "metadata": {},
   "outputs": [
    {
     "name": "stdout",
     "output_type": "stream",
     "text": [
      "<class 'float'>\n"
     ]
    }
   ],
   "source": [
    "b = 12.0001\n",
    "print(type(b))  # this is a floating number"
   ]
  },
  {
   "cell_type": "code",
   "execution_count": 6,
   "id": "713ccf8b",
   "metadata": {},
   "outputs": [
    {
     "name": "stdout",
     "output_type": "stream",
     "text": [
      "<class 'str'>\n"
     ]
    }
   ],
   "source": [
    "c = \"string\"\n",
    "print(type(c))  # this is a string"
   ]
  },
  {
   "cell_type": "markdown",
   "id": "54a7cc30",
   "metadata": {},
   "source": [
    "#### Comments"
   ]
  },
  {
   "cell_type": "code",
   "execution_count": 7,
   "id": "839b0001",
   "metadata": {},
   "outputs": [
    {
     "data": {
      "text/plain": [
       "'\\nthis is a multi-line comment\\n\\nwe can use it to write more text.\\n'"
      ]
     },
     "execution_count": 7,
     "metadata": {},
     "output_type": "execute_result"
    }
   ],
   "source": [
    "# this is a one-line comment\n",
    "\"\"\"\n",
    "this is a multi-line comment\n",
    "\n",
    "we can use it to write more text.\n",
    "\"\"\""
   ]
  },
  {
   "cell_type": "markdown",
   "id": "9b145996",
   "metadata": {},
   "source": [
    "### If/else"
   ]
  },
  {
   "cell_type": "code",
   "execution_count": 8,
   "id": "54e214a5",
   "metadata": {},
   "outputs": [
    {
     "name": "stdout",
     "output_type": "stream",
     "text": [
      "no, it's actually smaller\n"
     ]
    }
   ],
   "source": [
    "a = 3\n",
    "if a > 4:\n",
    "    print(\"a is larger than 4\")\n",
    "else:\n",
    "    print(\"no, it's actually smaller\")"
   ]
  },
  {
   "cell_type": "markdown",
   "id": "b9a4b56c",
   "metadata": {},
   "source": [
    "### For loops"
   ]
  },
  {
   "cell_type": "code",
   "execution_count": 9,
   "id": "9059f431",
   "metadata": {},
   "outputs": [
    {
     "name": "stdout",
     "output_type": "stream",
     "text": [
      "0\n",
      "1\n",
      "2\n",
      "3\n"
     ]
    }
   ],
   "source": [
    "for i in range(4):\n",
    "    print(i)"
   ]
  },
  {
   "cell_type": "code",
   "execution_count": 10,
   "id": "ef41d6b8",
   "metadata": {},
   "outputs": [
    {
     "name": "stdout",
     "output_type": "stream",
     "text": [
      "y\n",
      "a\n",
      "h\n",
      "o\n",
      "o\n"
     ]
    }
   ],
   "source": [
    "for c in \"yahoo\":\n",
    "    print(c)"
   ]
  },
  {
   "cell_type": "markdown",
   "id": "832c904a",
   "metadata": {},
   "source": [
    "### Functions"
   ]
  },
  {
   "cell_type": "code",
   "execution_count": 11,
   "id": "b54fc9b2",
   "metadata": {},
   "outputs": [
    {
     "name": "stdout",
     "output_type": "stream",
     "text": [
      "I'm lonely :(\n",
      ":) Hi Miles\n",
      ":) Hi Peter\n"
     ]
    }
   ],
   "source": [
    "def function_with_no_arguments():\n",
    "    print(\"I'm lonely :(\")\n",
    "    \n",
    "def function_with_argument(name):\n",
    "    print(\":) Hi\", name)\n",
    "    \n",
    "function_with_no_arguments()\n",
    "function_with_argument(\"Miles\")\n",
    "function_with_argument(\"Peter\")"
   ]
  },
  {
   "cell_type": "code",
   "execution_count": 12,
   "id": "29386586",
   "metadata": {},
   "outputs": [
    {
     "name": "stdout",
     "output_type": "stream",
     "text": [
      "3\n",
      "33\n"
     ]
    }
   ],
   "source": [
    "def function_with_return_parameter(a, b):\n",
    "    return a + b\n",
    "\n",
    "print(function_with_return_parameter(1,2))\n",
    "print(function_with_return_parameter(11,22))"
   ]
  },
  {
   "cell_type": "code",
   "execution_count": 13,
   "id": "4d038253",
   "metadata": {},
   "outputs": [
    {
     "name": "stdout",
     "output_type": "stream",
     "text": [
      "3\n",
      "3\n",
      "1\n"
     ]
    }
   ],
   "source": [
    "def func_with_keyword_argument(a, b, add=True):\n",
    "    if add:\n",
    "        return a + b\n",
    "    else:\n",
    "        return a - b\n",
    "    \n",
    "print(func_with_keyword_argument(2, 1))\n",
    "print(func_with_keyword_argument(2, 1, add=True))\n",
    "print(func_with_keyword_argument(2, 1, add=False))"
   ]
  },
  {
   "cell_type": "markdown",
   "id": "38df3463",
   "metadata": {},
   "source": [
    "### Data Types\n",
    "\n",
    "#### Strings"
   ]
  },
  {
   "cell_type": "code",
   "execution_count": 14,
   "id": "d13cdeb3",
   "metadata": {},
   "outputs": [],
   "source": [
    "s = 'you can define it this way'\n",
    "s = \"or that way\"\n",
    "s = str(\"or even like this\")"
   ]
  },
  {
   "cell_type": "code",
   "execution_count": 15,
   "id": "a819e94b",
   "metadata": {},
   "outputs": [
    {
     "name": "stdout",
     "output_type": "stream",
     "text": [
      "\n",
      "Multiline strings are also ...\n",
      "possible\n",
      "\n"
     ]
    }
   ],
   "source": [
    "s = \"\"\"\n",
    "Multiline strings are also ...\n",
    "possible\n",
    "\"\"\"\n",
    "print(s)"
   ]
  },
  {
   "cell_type": "code",
   "execution_count": 16,
   "id": "d20a7c93",
   "metadata": {},
   "outputs": [
    {
     "name": "stdout",
     "output_type": "stream",
     "text": [
      "A\n",
      "d\n",
      "o\n"
     ]
    }
   ],
   "source": [
    "# strings are like lists, you can index all characters individually\n",
    "s = \"Audio\"\n",
    "print(s[0])\n",
    "print(s[2])\n",
    "print(s[-1])\n"
   ]
  },
  {
   "cell_type": "code",
   "execution_count": 17,
   "id": "4142a47d",
   "metadata": {},
   "outputs": [
    {
     "data": {
      "text/plain": [
       "5"
      ]
     },
     "execution_count": 17,
     "metadata": {},
     "output_type": "execute_result"
    }
   ],
   "source": [
    "# get the string length\n",
    "s = \"Audio\"\n",
    "len(s)"
   ]
  },
  {
   "cell_type": "code",
   "execution_count": 18,
   "id": "4be3227f",
   "metadata": {},
   "outputs": [
    {
     "name": "stdout",
     "output_type": "stream",
     "text": [
      "False\n",
      "True\n",
      "True\n"
     ]
    }
   ],
   "source": [
    "# check whether substrings exist in a given string\n",
    "s = \"Hi Peter\"\n",
    "print(\"Hello\" in s)\n",
    "print(\"Hi\" in s)\n",
    "print(\"Hu\" not in s)\n"
   ]
  },
  {
   "cell_type": "code",
   "execution_count": 19,
   "id": "6a7d331d",
   "metadata": {},
   "outputs": [
    {
     "name": "stdout",
     "output_type": "stream",
     "text": [
      "Au\n",
      "Au\n",
      "dio\n",
      "io\n"
     ]
    }
   ],
   "source": [
    "# slice strings (extract substrings from a string), \n",
    "# ! remember we use zero-based indexing (first element has index 0)\n",
    "s = \"Audio\"\n",
    "print(s[0:2])\n",
    "print(s[:2])\n",
    "print(s[2:])\n",
    "print(s[-2:])"
   ]
  },
  {
   "cell_type": "code",
   "execution_count": 20,
   "id": "3cdf4e7f",
   "metadata": {},
   "outputs": [
    {
     "name": "stdout",
     "output_type": "stream",
     "text": [
      "AUDIO\n",
      "audio\n"
     ]
    }
   ],
   "source": [
    "# convert string to uppercase / lowercase notation\n",
    "s = \"Audio\"\n",
    "print(s.upper())\n",
    "print(s.lower())"
   ]
  },
  {
   "cell_type": "code",
   "execution_count": 21,
   "id": "eea93af0",
   "metadata": {},
   "outputs": [
    {
     "name": "stdout",
     "output_type": "stream",
     "text": [
      "birdsong.mp3\n"
     ]
    }
   ],
   "source": [
    "# replace substring in a string by another substring\n",
    "# (useful for instance for file processing)\n",
    "s = \"birdsong.wav\"\n",
    "s = s.replace(\".wav\", \".mp3\")\n",
    "print(s)\n"
   ]
  },
  {
   "cell_type": "code",
   "execution_count": 22,
   "id": "7491fd92",
   "metadata": {},
   "outputs": [
    {
     "name": "stdout",
     "output_type": "stream",
     "text": [
      "['car.wav', '12', 'BMW']\n"
     ]
    }
   ],
   "source": [
    "# split strings into a list of substring based on a delimiter character\n",
    "# (useful for instance if we read data from a CSV file)\n",
    "s = \"car.wav,12,BMW\"\n",
    "parts = s.split(\",\")\n",
    "print(parts)"
   ]
  },
  {
   "cell_type": "code",
   "execution_count": 23,
   "id": "f7d42f1d",
   "metadata": {},
   "outputs": [
    {
     "name": "stdout",
     "output_type": "stream",
     "text": [
      "car.wav\n"
     ]
    }
   ],
   "source": [
    "# join two or more strings using a concatenating character\n",
    "s = [\"car\",\"wav\"]\n",
    "filename = \".\".join(s)\n",
    "print(filename)"
   ]
  },
  {
   "cell_type": "code",
   "execution_count": 24,
   "id": "92557872",
   "metadata": {},
   "outputs": [
    {
     "name": "stdout",
     "output_type": "stream",
     "text": [
      "car.wav\n",
      "car.wav\n"
     ]
    }
   ],
   "source": [
    "# string formatting (create string from multiple parts)\n",
    "s1 = \"{}.wav\".format(\"car\")\n",
    "s2 = \"car\" + \".wav\"\n",
    "print(s1)\n",
    "print(s2)"
   ]
  },
  {
   "cell_type": "markdown",
   "id": "961530e8",
   "metadata": {},
   "source": [
    "#### Numeric types"
   ]
  },
  {
   "cell_type": "code",
   "execution_count": 25,
   "id": "5c70cc2c",
   "metadata": {},
   "outputs": [],
   "source": [
    "# integers\n",
    "i1 = 12\n",
    "i2 = -23"
   ]
  },
  {
   "cell_type": "code",
   "execution_count": 26,
   "id": "bc40e5ae",
   "metadata": {},
   "outputs": [],
   "source": [
    "# float(ing point) numbers\n",
    "f1 = 12.001\n",
    "f2 = -23.5"
   ]
  },
  {
   "cell_type": "code",
   "execution_count": 27,
   "id": "9a9106ef",
   "metadata": {},
   "outputs": [
    {
     "name": "stdout",
     "output_type": "stream",
     "text": [
      "12\n",
      "<class 'int'>\n",
      "12.0\n",
      "<class 'float'>\n"
     ]
    }
   ],
   "source": [
    "# data type conversion\n",
    "print(i1)\n",
    "print(type(i1))\n",
    "i1 = float(i1)\n",
    "print(i1)\n",
    "print(type(i1))"
   ]
  },
  {
   "cell_type": "code",
   "execution_count": 28,
   "id": "7994d1e7",
   "metadata": {},
   "outputs": [
    {
     "name": "stdout",
     "output_type": "stream",
     "text": [
      "2\n",
      "1\n",
      "1\n"
     ]
    }
   ],
   "source": [
    "# rounding up / down of floats\n",
    "import math\n",
    "f = 1.49\n",
    "print(math.ceil(f))\n",
    "print(math.floor(f))\n",
    "print(round(f))"
   ]
  },
  {
   "cell_type": "markdown",
   "id": "eeaff5dc",
   "metadata": {},
   "source": [
    "#### Lists"
   ]
  },
  {
   "cell_type": "code",
   "execution_count": 29,
   "id": "ebb26058",
   "metadata": {},
   "outputs": [],
   "source": [
    "# Lists must have elements with the same data type\n",
    "list1 = [\"apple\", \"banana\", \"cherry\"]\n",
    "list2 = [1, 2, 3]\n",
    "list3 = [True, False, True]"
   ]
  },
  {
   "cell_type": "code",
   "execution_count": 30,
   "id": "0d39a90e",
   "metadata": {},
   "outputs": [
    {
     "name": "stdout",
     "output_type": "stream",
     "text": [
      "1\n",
      "cherry\n"
     ]
    }
   ],
   "source": [
    "# indexing (remember: Python uses zero-based indexing)\n",
    "print(list2[0])\n",
    "print(list1[2])"
   ]
  },
  {
   "cell_type": "code",
   "execution_count": 31,
   "id": "ef168172",
   "metadata": {},
   "outputs": [
    {
     "data": {
      "text/plain": [
       "3"
      ]
     },
     "execution_count": 31,
     "metadata": {},
     "output_type": "execute_result"
    }
   ],
   "source": [
    "# get the length of a list\n",
    "len(list1)"
   ]
  },
  {
   "cell_type": "code",
   "execution_count": 32,
   "id": "7f9f35ff",
   "metadata": {},
   "outputs": [],
   "source": [
    "# \"list comprehension\" = fancy/efficient way to create new lists"
   ]
  },
  {
   "cell_type": "code",
   "execution_count": 33,
   "id": "f69c5307",
   "metadata": {},
   "outputs": [
    {
     "name": "stdout",
     "output_type": "stream",
     "text": [
      "[3, 5, 7]\n"
     ]
    }
   ],
   "source": [
    "list1 = [2, 4, 6]\n",
    "\n",
    "# now create a new list by adding one to each element of list1\n",
    "list2 = [_ + 1 for _ in list1]\n",
    "\n",
    "print(list2)"
   ]
  },
  {
   "cell_type": "code",
   "execution_count": 34,
   "id": "b215ab91",
   "metadata": {},
   "outputs": [
    {
     "name": "stdout",
     "output_type": "stream",
     "text": [
      "[0, 0]\n",
      "2\n"
     ]
    }
   ],
   "source": [
    "# indexing/slicing works just as for strings!\n",
    "list1 = [0, 0, 1, 1, 2, 2]\n",
    "print(list1[:2])\n",
    "print(list1[-1])"
   ]
  },
  {
   "cell_type": "markdown",
   "id": "53a1898b",
   "metadata": {},
   "source": [
    "#### Dictionaries"
   ]
  },
  {
   "cell_type": "code",
   "execution_count": 35,
   "id": "136d8c50",
   "metadata": {},
   "outputs": [
    {
     "name": "stdout",
     "output_type": "stream",
     "text": [
      "1964\n"
     ]
    }
   ],
   "source": [
    "# think of it as a collection of key-value pairs, keys must be strings\n",
    "d = {\n",
    "  \"brand\": \"Ford\",\n",
    "  \"model\": \"Mustang\",\n",
    "  \"year\": 1964\n",
    "}\n",
    "\n",
    "print(d[\"year\"])"
   ]
  },
  {
   "cell_type": "code",
   "execution_count": 36,
   "id": "8f31a32a",
   "metadata": {},
   "outputs": [
    {
     "name": "stdout",
     "output_type": "stream",
     "text": [
      "dict_keys(['brand', 'model', 'year'])\n",
      "dict_values(['Ford', 'Mustang', 1964])\n",
      "dict_items([('brand', 'Ford'), ('model', 'Mustang'), ('year', 1964)])\n"
     ]
    }
   ],
   "source": [
    "# get keys:\n",
    "print(d.keys())\n",
    "# get values:\n",
    "print(d.values())\n",
    "# get key-value pairs\n",
    "print(d.items())"
   ]
  },
  {
   "cell_type": "markdown",
   "id": "3c2926f3",
   "metadata": {},
   "source": [
    "#### Operators"
   ]
  },
  {
   "cell_type": "code",
   "execution_count": 37,
   "id": "9e2c3aea",
   "metadata": {},
   "outputs": [
    {
     "name": "stdout",
     "output_type": "stream",
     "text": [
      "7.0\n"
     ]
    }
   ],
   "source": [
    "# assignment operators\n",
    "i = 12  # int\n",
    "i = i + 2  # 14\n",
    "i += 2  # 16\n",
    "i -= 2  # 14\n",
    "i /= 2  # 7.0 (! after the division, it became a float)\n",
    "print(i)"
   ]
  },
  {
   "cell_type": "code",
   "execution_count": 38,
   "id": "0280c878",
   "metadata": {},
   "outputs": [
    {
     "name": "stdout",
     "output_type": "stream",
     "text": [
      "True\n",
      "True\n",
      "False\n",
      "True\n"
     ]
    }
   ],
   "source": [
    "# comparison operators\n",
    "print(1 == 1)\n",
    "print(1 <= 2)\n",
    "print(1 >= 3)\n",
    "print(1 != 3)"
   ]
  },
  {
   "cell_type": "code",
   "execution_count": 39,
   "id": "b3e64244",
   "metadata": {},
   "outputs": [
    {
     "name": "stdout",
     "output_type": "stream",
     "text": [
      "False\n",
      "True\n",
      "True\n"
     ]
    }
   ],
   "source": [
    "# logical operators\n",
    "i = 1\n",
    "print((i < 3) and (i > 1))\n",
    "print((i < 3) or (i > 1))\n",
    "print(not (i > 5))"
   ]
  },
  {
   "cell_type": "markdown",
   "id": "fdf79d3c",
   "metadata": {},
   "source": [
    "## NumPy\n",
    "\n",
    "### Arrays"
   ]
  },
  {
   "cell_type": "code",
   "execution_count": 45,
   "id": "25f5b84c",
   "metadata": {},
   "outputs": [
    {
     "name": "stdout",
     "output_type": "stream",
     "text": [
      "[1 2 3]\n",
      "1\n",
      "(3,)\n",
      "int32\n"
     ]
    }
   ],
   "source": [
    "# let's start with a one-dimensional array (vector)\n",
    "a = np.array([1, 2, 3])\n",
    "print(a)\n",
    "print(a.ndim)\n",
    "print(a.shape)\n",
    "print(a.dtype)"
   ]
  },
  {
   "cell_type": "code",
   "execution_count": 46,
   "id": "a3af4196",
   "metadata": {},
   "outputs": [
    {
     "name": "stdout",
     "output_type": "stream",
     "text": [
      "[[1.1 2.2]\n",
      " [3.3 4.4]]\n",
      "2\n",
      "(2, 2)\n",
      "float64\n"
     ]
    }
   ],
   "source": [
    "# now we look at a two-dimensional array (matrix)\n",
    "a = np.array([[1.1, 2.2], [3.3, 4.4]])\n",
    "print(a)\n",
    "print(a.ndim)\n",
    "print(a.shape)\n",
    "print(a.dtype)\n"
   ]
  },
  {
   "cell_type": "code",
   "execution_count": 47,
   "id": "606da2a3",
   "metadata": {},
   "outputs": [
    {
     "name": "stdout",
     "output_type": "stream",
     "text": [
      "[[0. 0. 0.]\n",
      " [0. 0. 0.]]\n",
      "[1. 1. 1.]\n",
      "[1 1 1]\n"
     ]
    }
   ],
   "source": [
    "# create arrays filled with ones/zeros\n",
    "a = np.zeros([2, 3])\n",
    "print(a)\n",
    "a = np.ones(3)\n",
    "print(a)\n",
    "a = np.ones(3, dtype=int)\n",
    "print(a)"
   ]
  },
  {
   "cell_type": "code",
   "execution_count": 48,
   "id": "8700b727",
   "metadata": {},
   "outputs": [
    {
     "name": "stdout",
     "output_type": "stream",
     "text": [
      "[0 1 2 3]\n",
      "[3 2 1 0]\n"
     ]
    }
   ],
   "source": [
    "# create array with increasing numbers\n",
    "a = np.arange(4)\n",
    "print(a)\n",
    "\n",
    "# decreasing?\n",
    "b = a[::-1]\n",
    "print(b)"
   ]
  },
  {
   "cell_type": "code",
   "execution_count": 49,
   "id": "cb3cef2a",
   "metadata": {},
   "outputs": [
    {
     "name": "stdout",
     "output_type": "stream",
     "text": [
      "0\n",
      "[0 1]\n",
      "3\n"
     ]
    }
   ],
   "source": [
    "# indexing/slicing works just with strings/list before\n",
    "a = np.arange(4)\n",
    "print(a[0])\n",
    "print(a[:2])\n",
    "print(a[-1])"
   ]
  },
  {
   "cell_type": "code",
   "execution_count": 50,
   "id": "67e516aa",
   "metadata": {},
   "outputs": [
    {
     "name": "stdout",
     "output_type": "stream",
     "text": [
      "[0 1 2 3 0 1 2]\n"
     ]
    }
   ],
   "source": [
    "# concatenate two arrays to a new one\n",
    "a = np.arange(4)\n",
    "b = np.arange(3)\n",
    "print(np.concatenate((a, b))) "
   ]
  },
  {
   "cell_type": "code",
   "execution_count": 51,
   "id": "6097eff7",
   "metadata": {},
   "outputs": [
    {
     "name": "stdout",
     "output_type": "stream",
     "text": [
      "[1 2 3 4]\n",
      "[[1 2]\n",
      " [3 4]]\n"
     ]
    }
   ],
   "source": [
    "# horizontal and vertical stacking of (2D) arrays\n",
    "a = np.array((1, 2), dtype=int) \n",
    "b = np.array((3, 4), dtype=int)\n",
    "\n",
    "print(np.hstack((a, b)))\n",
    "print(np.vstack((a, b)))"
   ]
  },
  {
   "cell_type": "markdown",
   "id": "228eb2b0",
   "metadata": {},
   "source": [
    "## Matplotlib (Data visualization)"
   ]
  },
  {
   "cell_type": "code",
   "execution_count": 54,
   "id": "972ebc39",
   "metadata": {},
   "outputs": [
    {
     "data": {
      "image/png": "[encoded data removed]",
      "text/plain": [
       "<Figure size 640x480 with 1 Axes>"
      ]
     },
     "metadata": {},
     "output_type": "display_data"
    }
   ],
   "source": [
    "x = np.array((1,2,3,4))\n",
    "y = np.array((3,4,3,2))\n",
    "\n",
    "fig, ax = plt.subplots()\n",
    "\n",
    "ax.plot(x, y)\n",
    "ax.set_xlabel('x')\n",
    "ax.set_ylabel('y')\n",
    "ax.set_title('My plot')\n",
    "plt.show()\n"
   ]
  },
  {
   "cell_type": "code",
   "execution_count": 55,
   "id": "ec89c27a",
   "metadata": {},
   "outputs": [
    {
     "data": {
      "image/png": "[encoded data removed]",
      "text/plain": [
       "<Figure size 640x480 with 1 Axes>"
      ]
     },
     "metadata": {},
     "output_type": "display_data"
    }
   ],
   "source": [
    "import numpy as np\n",
    "x = np.array((1,2,3,4))\n",
    "y = np.array((3,4,3,2))\n",
    "\n",
    "import matplotlib.pyplot as plt\n",
    "\n",
    "fig, ax = plt.subplots()\n",
    "ax.plot(x, y, label='y')\n",
    "ax.plot(x, 4-y, label='4-y') \n",
    "ax.set_xlabel('x')\n",
    "ax.set_ylabel('y')\n",
    "ax.set_title('My plot')\n",
    "plt.legend()\n",
    "plt.show()\n"
   ]
  },
  {
   "cell_type": "code",
   "execution_count": 56,
   "id": "e6daf372",
   "metadata": {},
   "outputs": [
    {
     "data": {
      "image/png": "[encoded data removed]",
      "text/plain": [
       "<Figure size 640x480 with 1 Axes>"
      ]
     },
     "metadata": {},
     "output_type": "display_data"
    }
   ],
   "source": [
    "fig, ax = plt.subplots()\n",
    "ax.plot([1, 2, 3], [1, 1, 1], 'r-')\n",
    "ax.plot([1, 2, 3], [2, 2, 2], 'bo-')\n",
    "ax.plot([1, 2, 3], [3, 3, 3], 'k*--')\n",
    "ax.plot([1, 2, 3], [3, 3, 3], color='k', marker='*', linestyle='--')\n",
    "plt.show()\n"
   ]
  },
  {
   "cell_type": "code",
   "execution_count": 57,
   "id": "494d0e7f",
   "metadata": {},
   "outputs": [
    {
     "data": {
      "image/png": "[encoded data removed]",
      "text/plain": [
       "<Figure size 640x480 with 1 Axes>"
      ]
     },
     "metadata": {},
     "output_type": "display_data"
    }
   ],
   "source": [
    "fig, ax = plt.subplots()\n",
    "ax.bar([1, 2, 3, 4], [0.2, 0.6, 0.9, 0.7])\n",
    "plt.show()"
   ]
  },
  {
   "cell_type": "code",
   "execution_count": 58,
   "id": "753a7ef5",
   "metadata": {},
   "outputs": [
    {
     "data": {
      "image/png": "[encoded data removed]",
      "text/plain": [
       "<Figure size 640x480 with 1 Axes>"
      ]
     },
     "metadata": {},
     "output_type": "display_data"
    }
   ],
   "source": [
    "mat = np.random.randn(10, 30)\n",
    "fig, ax = plt.subplots()\n",
    "ax.imshow(mat)\n",
    "plt.show()"
   ]
  },
  {
   "cell_type": "code",
   "execution_count": 59,
   "id": "b53dbf59",
   "metadata": {},
   "outputs": [
    {
     "data": {
      "image/png": "[encoded data removed]",
      "text/plain": [
       "<Figure size 640x480 with 1 Axes>"
      ]
     },
     "metadata": {},
     "output_type": "display_data"
    }
   ],
   "source": [
    "x = np.random.randn(20)\n",
    "y = np.random.randn(20)\n",
    "fig, ax = plt.subplots()\n",
    "ax.scatter(x,y)\n",
    "plt.show()"
   ]
  },
  {
   "cell_type": "code",
   "execution_count": 60,
   "id": "0ccab63c",
   "metadata": {},
   "outputs": [
    {
     "data": {
      "image/png": "[encoded data removed]",
      "text/plain": [
       "<Figure size 640x480 with 1 Axes>"
      ]
     },
     "metadata": {},
     "output_type": "display_data"
    }
   ],
   "source": [
    "x = np.random.randn(20000)\n",
    "fig, ax = plt.subplots()\n",
    "ax.hist(x, bins=50)\n",
    "plt.show()"
   ]
  },
  {
   "cell_type": "code",
   "execution_count": 61,
   "id": "7fbc9859",
   "metadata": {},
   "outputs": [
    {
     "data": {
      "image/png": "[encoded data removed]",
      "text/plain": [
       "<Figure size 640x480 with 1 Axes>"
      ]
     },
     "metadata": {},
     "output_type": "display_data"
    }
   ],
   "source": [
    "x = np.random.randn(20000, 3)\n",
    "x[:, 1] += 0.5\n",
    "x[:, 2] /= 2\n",
    "fig, ax = plt.subplots()\n",
    "ax.boxplot(x)\n",
    "plt.show()"
   ]
  },
  {
   "cell_type": "code",
   "execution_count": 62,
   "id": "95f8fcea",
   "metadata": {},
   "outputs": [
    {
     "data": {
      "image/png": "[encoded data removed]",
      "text/plain": [
       "<Figure size 640x480 with 3 Axes>"
      ]
     },
     "metadata": {},
     "output_type": "display_data"
    }
   ],
   "source": [
    "fig, ax = plt.subplots(1, 3)\n",
    "ax[0].imshow(np.random.randn(10, 10))\n",
    "ax[1].imshow(np.random.randn(10, 10))\n",
    "ax[2].imshow(np.random.randn(10, 10))\n",
    "plt.show()"
   ]
  },
  {
   "cell_type": "code",
   "execution_count": null,
   "id": "16f6f09c",
   "metadata": {},
   "outputs": [],
   "source": []
  },
  {
   "cell_type": "code",
   "execution_count": null,
   "id": "00d04b90",
   "metadata": {},
   "outputs": [],
   "source": []
  }
 ],
 "metadata": {
  "kernelspec": {
   "display_name": "Python 3",
   "language": "python",
   "name": "python3"
  },
  "language_info": {
   "codemirror_mode": {
    "name": "ipython",
    "version": 3
   },
   "file_extension": ".py",
   "mimetype": "text/x-python",
   "name": "python",
   "nbconvert_exporter": "python",
   "pygments_lexer": "ipython3",
   "version": "3.7.4"
  }
 },
 "nbformat": 4,
 "nbformat_minor": 5
}
