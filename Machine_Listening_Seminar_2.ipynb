{
 "cells": [
  {
   "cell_type": "markdown",
   "metadata": {
    "id": "Cufn3pgLXEAI"
   },
   "source": [
    "---\n",
    "# (1) Short-Time Fourier Transform (STFT) & Chromagram (I): Sine wave\n",
    "Let's investigate the STFT. Topics:\n",
    "\n",
    "*   *librosa* library (https://librosa.org/doc/latest/index.html)\n",
    "*   Analysis of our sine wave using STFT and Chromagram\n",
    "*   Playground for parameters"
   ]
  },
  {
   "cell_type": "code",
   "execution_count": null,
   "metadata": {
    "id": "V1LctG5hceVk"
   },
   "outputs": [],
   "source": [
    "import librosa\n",
    "import librosa.display\n",
    "import numpy as np\n",
    "\n",
    "\n",
    "### Create an (mag-)STFT from the sine wave\n",
    "stft_sine = np.abs(librosa.stft(y=sine_wave, n_fft=1024, hop_length=1024, win_length=None, window='hann', center=True, pad_mode='reflect'))\n",
    "stft_sine_db = librosa.amplitude_to_db(stft_sine, ref=np.max)\n",
    "\n",
    "fig, ax = plt.subplots()\n",
    "img = librosa.display.specshow(stft_sine_db, y_axis='log', x_axis='time', ax=ax)\n",
    "ax.set(title='Power spectrogram')\n",
    "#plt.colorbar(img, ax=ax, format=\"%+2.0f dB\")\n",
    "plt.plot()\n",
    "\n",
    "\n",
    "### Create a chromagram from the STFT. Check the librosa doc!\n",
    "chroma = ...\n",
    "\n",
    "fig, ax = plt.subplots()\n",
    "img = librosa.display.specshow(chroma, y_axis='chroma', x_axis='time', ax=ax)\n",
    "ax.set(title='Chromagram')\n",
    "#plt.colorbar(img, ax=ax)\n",
    "plt.plot()"
   ]
  },
  {
   "cell_type": "markdown",
   "metadata": {
    "id": "2in22R34XLBT"
   },
   "source": [
    "---\n",
    "# (2) Short-Time Fourier Transform (STFT) & Chromagram (II): Piano chords\n",
    "Topics in this section:\n",
    "*   Get to know the STFT-spectrogram\n",
    "*   Spectrum analysis of piano overtones, in comparison to the sine wave\n",
    "*   Behaviour of Chromagram for notes over several octaves\n"
   ]
  },
  {
   "cell_type": "code",
   "execution_count": null,
   "metadata": {
    "id": "qnXR9580qO4G"
   },
   "outputs": [],
   "source": [
    "import librosa\n",
    "import librosa.display\n",
    "import matplotlib.pyplot as plt\n",
    "import numpy as np\n",
    "import IPython.display as ipd\n",
    "\n",
    "\n",
    "### Example audio: Load 'Piano1-1.wav' using librosa. It has a sample rate of 44100. Convert it to mono.\n",
    "piano_data, piano_sr = ...\n",
    "\n",
    "\n",
    "### Turn into STFT, then db, then plot\n",
    "piano_stft = ...\n",
    "piano_stft_db = ...\n",
    "\n",
    "fig, ax = plt.subplots()\n",
    "img = librosa.display.specshow(..., y_axis='log', x_axis='time', ax=ax)\n",
    "ax.set(title='Power spectrogram')\n",
    "#plt.colorbar(img, ax=ax, format=\"%+2.0f dB\")\n",
    "plt.plot()\n",
    "\n",
    "\n",
    "### Turn the STFT into a chromagram, then db, then plot\n",
    "...\n",
    "...\n",
    "\n",
    "fig, ax = plt.subplots()\n",
    "img = librosa.display.specshow(..., y_axis='chroma', x_axis='time', ax=ax)\n",
    "ax.set(title='Chromagram')\n",
    "#plt.colorbar(img, ax=ax)\n",
    "plt.plot()"
   ]
  },
  {
   "cell_type": "markdown",
   "metadata": {
    "id": "5rt2Lk80tVdF"
   },
   "source": [
    "Expected output:\n",
    "*   1st note block: [C E G] in succession, but overlapping\n",
    "*   2nd note block: [E G C+1 E+1] simultaneously\n",
    "*   3rd note block: [C E G C+1] simultaneously\n",
    "*   Chromagram: notice the same notes from different octaves are grouped together"
   ]
  },
  {
   "cell_type": "markdown",
   "metadata": {
    "id": "BNX09fydBSqK"
   },
   "source": [
    "---\n",
    "# (3) Mel-Spectrogram\n",
    "The Mel-Spectrogram is based on the Mel scale, a perceptual scale of the pitches. Topics in this section:\n",
    "\n",
    "*   Mel-spectrogram with 128 bands and a f_max of 8000\n",
    "*   Analyse the difference to an STFT-spectrogram"
   ]
  },
  {
   "cell_type": "code",
   "execution_count": null,
   "metadata": {
    "id": "El3SHmQICJLs"
   },
   "outputs": [],
   "source": [
    "import librosa\n",
    "import librosa.display\n",
    "import matplotlib.pyplot as plt\n",
    "import numpy as np\n",
    "\n",
    "\n",
    "### Create the Mel-spectrogram from the piano data, then convert it from power to dB\n",
    "piano_mel = ...\n",
    "piano_mel_dB = ...\n",
    "\n",
    "\n",
    "fig, ax = plt.subplots()\n",
    "img = ...  # FILL IN: librosa's specshow()\n",
    "ax.set(title='Mel-Spectrogram')\n",
    "#plt.colorbar(img, ax=ax, format=\"%+2.0f dB\")\n",
    "plt.plot()"
   ]
  },
  {
   "cell_type": "markdown",
   "metadata": {
    "id": "h9UISVC6jwmZ"
   },
   "source": [
    "---\n",
    "# (Coming up) **Building a sound classification system** - First steps\n",
    "---\n",
    "\n",
    "# ESC-50 dataset\n",
    "*   https://github.com/karolpiczak/ESC-50\n",
    "*   Dataset for Environmental Sound Classification\n",
    "*   We choose 5 classes, and 2 should be very similar to each other\n",
    "\n",
    "In the next AST seminar, we will use these things to build our own first simple sound classification system.\n",
    "\n",
    "\n",
    "\n"
   ]
  }
 ],
 "metadata": {
  "colab": {
   "collapsed_sections": [],
   "name": "Machine_Listening_Seminar_1_b.ipynb",
   "provenance": [
    {
     "file_id": "1cz-cPvIbmDn25QrBoFv7g112YSPrgifI",
     "timestamp": 1638195889172
    }
   ],
   "toc_visible": true
  },
  "kernelspec": {
   "display_name": "Python 3",
   "language": "python",
   "name": "python3"
  },
  "language_info": {
   "codemirror_mode": {
    "name": "ipython",
    "version": 3
   },
   "file_extension": ".py",
   "mimetype": "text/x-python",
   "name": "python",
   "nbconvert_exporter": "python",
   "pygments_lexer": "ipython3",
   "version": "3.7.4"
  }
 },
 "nbformat": 4,
 "nbformat_minor": 1
}
