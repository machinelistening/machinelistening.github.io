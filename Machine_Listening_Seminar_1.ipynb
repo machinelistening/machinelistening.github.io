{
  "nbformat": 4,
  "nbformat_minor": 0,
  "metadata": {
    "colab": {
      "name": "Machine Listening - Seminar 1.ipynb",
      "provenance": [],
      "collapsed_sections": [
        "h9UISVC6jwmZ"
      ],
      "toc_visible": true
    },
    "kernelspec": {
      "name": "python3",
      "display_name": "Python 3"
    }
  },
  "cells": [
    {
      "cell_type": "markdown",
      "metadata": {
        "id": "k6AXIqnFGLGN"
      },
      "source": [
        "# (0) Before we get started\n",
        "\n",
        "**You need a Google account to edit and run code here.**\n",
        "\n",
        "1.   Sign into your Google account and open this ipynb again.\n",
        "2.   From the menu, choose *Save a copy in Drive*, open that one and close this one.\n",
        "3.   Download https://github.com/machinelistening/machinelistening.github.io/blob/master/Piano1-1.wav\n",
        "4.   On the left side here, click the folder icon, then upload *Piano1-1.wav* (root/content/Piano1-1.wav).\n",
        "\n",
        "**OR if you don't have/want that, execute the .ipynb locally:**\n",
        "\n",
        "1.   Download the .ipynb and *Piano1-1.wav* from the course github.\n",
        "2.   Install miniconda (https://docs.conda.io/en/latest/miniconda.html)\n",
        "3.   Open a terminal/Anaconda prompt\n",
        "4.   \"conda create -n [name] python=3.7\"\n",
        "5.   \"conda activate [name]\"\n",
        "6.   \"pip install {numpy, matplotlib, librosa, ipython, jupyter}\"\n",
        "7.   \"jupyter notebook Machine_Listening_Seminar_1.ipynb\"\n",
        "8.   A browser tab should open with URL \"http://localhost:8888/notebooks/Machine_Listening_Seminar_1.ipynb\" and you should see the document.\n"
      ]
    },
    {
      "cell_type": "markdown",
      "metadata": {
        "id": "VSat2S3KAR1K"
      },
      "source": [
        "---\n",
        "# (1) Hello world\n",
        "Welcome to your first MIR seminar! Topics today:\n",
        "\n",
        "*   Python basics and library usage\n",
        "*   How to create a sine wave\n",
        "*   Disassemble the sine wave into its STFT-spectrum, Mel-spectrum and chromagram\n",
        "*   See the spectral differences between a sine wave and piano chords\n",
        "\n",
        "Let's get started with some elemental Python basics!"
      ]
    },
    {
      "cell_type": "code",
      "metadata": {
        "id": "L7KdMV5UntW3"
      },
      "source": [
        "part1 = 'Hello,'\n",
        "part2 = 'AST world!'\n",
        "print(...)  # FILL IN: Concatenate the two strings and insert a space\n",
        "\n",
        "print('\\nLet\\'s do a headcount!')\n",
        "for ... in ...:  # FILL IN: Start and end of the loop. Start at 1, end at 10!\n",
        "  print(i)\n",
        "print('Great, everyone is here.')"
      ],
      "execution_count": null,
      "outputs": []
    },
    {
      "cell_type": "markdown",
      "metadata": {
        "id": "gXANf1F09R8T"
      },
      "source": [
        "Expected outputs:\n",
        "*   'Hello, AST world!'\n",
        "*   1, 2, 3, 4, 5, 6, 7, 8, 9, 10 (ommitted line breaks here)"
      ]
    },
    {
      "cell_type": "markdown",
      "metadata": {
        "id": "RMWdt0_b9w8f"
      },
      "source": [
        "---\n",
        "# (2) Python & numpy basics\n",
        "\n",
        "*   A quick look at some functionalities of the Python *numpy* package\n",
        "*   importing Python libraries\n"
      ]
    },
    {
      "cell_type": "code",
      "metadata": {
        "id": "vI2halVZ-CGK"
      },
      "source": [
        "import numpy as np\n",
        "\n",
        "a = np.array([1, 2])              # vector/\"1D-array\" with values 1 and 2\n",
        "b = np.array([3, 4])              # same, values 3 and 4\n",
        "ab1 = np.vstack((a, b))           # stacks them into a matrix\n",
        "ab2 = np.array([[1, 2], [3, 4]])  # same as ab1\n",
        "c = np.ones((2, 3)) * 1           # 2D-array with 2 rows and 3 columns, filled with ones.\n",
        "d = np.log(ab2)                   # natural logarithm\n",
        "\n",
        "e = [1, 2, 3, 4, 5]               # a list (not numpy)\n",
        "f = list(np.arange(3, 8))         # [3, 4, 5, 6, 7]\n",
        "g = np.sum(e)                     # sum of the elements in e\n",
        "h = np.sum((e, f))                # sum of the elements in both e and f\n",
        "i = np.sum(ab1, axis=0)           # sum per column of the matrix\n",
        "ef = set(e).intersection(set(f))  # intersection of e and f\n",
        "\n",
        "m = e[0]                          # first element of e\n",
        "n = e[1:3]                        # indices 2 and 3 of e\n",
        "o = e[-1]                         # last element of e\n",
        "p = len(e)                        # number of elements in e\n",
        "q = [1, 2, [3, 4,4,6,8,9,0,], 5]             # nested lists --> length of q?\n",
        "\n",
        "print('a: {}'.format(a))\n",
        "print('b: {}'.format(b))\n",
        "print('ab1:\\n {}'.format(ab1))\n",
        "print('c:\\n {}'.format(c))\n",
        "print('d:\\n {}'.format(d))\n",
        "print('g: {}'.format(g))\n",
        "print('h: {}'.format(h))\n",
        "print('i: {}'.format(i))\n",
        "print('ef: {}'.format(ef))\n",
        "print('m: {}, n: {}, o: {}'.format(m, n, o))\n",
        "print('p: {}, len(q): {}'.format(p, len(q)))"
      ],
      "execution_count": null,
      "outputs": []
    },
    {
      "cell_type": "markdown",
      "metadata": {
        "id": "Jgo24GfhwsGN"
      },
      "source": [
        "---\n",
        "# (3) Sine wave\n",
        "Next, we create a sine wave, which helps us get introduced to more Python concepts. Topics:\n",
        "\n",
        "*   formula for a sine wave\n",
        "*   get to know *matplotlib* for plotting graphs\n",
        "\n",
        "**Your task:**\n",
        "Create a 1-second sinusoid with an amplitude of 3, a frequency of the note E3 (164,81 Hz) at a sample rate (fs) of 22050 Hz. Then sample the first 500 elements for the plot."
      ]
    },
    {
      "cell_type": "code",
      "metadata": {
        "id": "xikvmC6f1xzB"
      },
      "source": [
        "%matplotlib inline\n",
        "import matplotlib.pyplot as plt\n",
        "import numpy as np\n",
        "import IPython.display as ipd\n",
        "\n",
        "\n",
        "### START CODING HERE ###\n",
        "amp = 3\n",
        "freq = 164.81\n",
        "fs = 22050\n",
        "\n",
        "t = ...                           # Set up time samples.\n",
        "pha = 0\n",
        "\n",
        "sine_wave = ...                   # Formula for sine wave. Use np where applicable.\n",
        "print(np.round(..., decimals=2))  # FILL IN: Print the first 10 samples of your sine wave.\n",
        "\n",
        "fig, ax = plt.subplots()\n",
        "ax.plot(..., ...)                 # FILL IN: Plot the first 500 samples of your sine wave. Takes parameters time and data.\n",
        "ax.set(xlabel='...', ylabel='...', title='Simple sine wave')  # FILL IN: Axis labels\n",
        "ax.grid()\n",
        "plt.show()\n",
        "### END CODING HERE ###\n",
        "\n",
        "\n",
        "ipd.Audio(sine_wave, rate=fs)"
      ],
      "execution_count": null,
      "outputs": []
    },
    {
      "cell_type": "markdown",
      "metadata": {
        "id": "vG3qNNXtDAyA"
      },
      "source": [
        "expected output: [0.   0.14 0.28 0.42 0.56 0.7  0.83 0.97 1.1  1.23]"
      ]
    },
    {
      "cell_type": "markdown",
      "metadata": {
        "id": "Cufn3pgLXEAI"
      },
      "source": [
        "---\n",
        "# (4) Short-Time Fourier Transform (STFT) & Chromagram (I): Sine wave\n",
        "Let's investigate the STFT. Topics:\n",
        "\n",
        "*   *librosa* library (https://librosa.org/doc/latest/index.html)\n",
        "*   Analysis of our sine wave using STFT and Chromagram\n",
        "*   Playground for parameters"
      ]
    },
    {
      "cell_type": "code",
      "metadata": {
        "id": "V1LctG5hceVk"
      },
      "source": [
        "import librosa\n",
        "import librosa.display\n",
        "import numpy as np\n",
        "\n",
        "\n",
        "### Create an (mag-)STFT from the sine wave\n",
        "stft_sine = np.abs(librosa.stft(y=sine_wave, n_fft=1024, hop_length=1024, win_length=None, window='hann', center=True, pad_mode='reflect'))\n",
        "stft_sine_db = librosa.amplitude_to_db(stft_sine, ref=np.max)\n",
        "\n",
        "fig, ax = plt.subplots()\n",
        "img = librosa.display.specshow(stft_sine_db, y_axis='log', x_axis='time', ax=ax)\n",
        "ax.set(title='Power spectrogram')\n",
        "#plt.colorbar(img, ax=ax, format=\"%+2.0f dB\")\n",
        "plt.plot()\n",
        "\n",
        "\n",
        "### Create a chromagram from the STFT. Check the librosa doc!\n",
        "chroma = ...\n",
        "\n",
        "fig, ax = plt.subplots()\n",
        "img = librosa.display.specshow(chroma, y_axis='chroma', x_axis='time', ax=ax)\n",
        "ax.set(title='Chromagram')\n",
        "#plt.colorbar(img, ax=ax)\n",
        "plt.plot()"
      ],
      "execution_count": null,
      "outputs": []
    },
    {
      "cell_type": "markdown",
      "metadata": {
        "id": "2in22R34XLBT"
      },
      "source": [
        "---\n",
        "# (5) Short-Time Fourier Transform (STFT) & Chromagram (II): Piano chords\n",
        "Topics in this section:\n",
        "*   Get to know the STFT-spectrogram\n",
        "*   Spectrum analysis of piano overtones, in comparison to the sine wave\n",
        "*   Behaviour of Chromagram for notes over several octaves\n"
      ]
    },
    {
      "cell_type": "code",
      "metadata": {
        "id": "qnXR9580qO4G"
      },
      "source": [
        "import librosa\n",
        "import librosa.display\n",
        "import matplotlib.pyplot as plt\n",
        "import numpy as np\n",
        "import IPython.display as ipd\n",
        "\n",
        "\n",
        "### Example audio: Load 'Piano1-1.wav' using librosa. It has a sample rate of 44100. Convert it to mono.\n",
        "piano_data, piano_sr = ...\n",
        "\n",
        "\n",
        "### Turn into STFT, then db, then plot\n",
        "piano_stft = ...\n",
        "piano_stft_db = ...\n",
        "\n",
        "fig, ax = plt.subplots()\n",
        "img = librosa.display.specshow(..., y_axis='log', x_axis='time', ax=ax)\n",
        "ax.set(title='Power spectrogram')\n",
        "#plt.colorbar(img, ax=ax, format=\"%+2.0f dB\")\n",
        "plt.plot()\n",
        "\n",
        "\n",
        "### Turn the STFT into a chromagram, then db, then plot\n",
        "...\n",
        "...\n",
        "\n",
        "fig, ax = plt.subplots()\n",
        "img = librosa.display.specshow(..., y_axis='chroma', x_axis='time', ax=ax)\n",
        "ax.set(title='Chromagram')\n",
        "#plt.colorbar(img, ax=ax)\n",
        "plt.plot()"
      ],
      "execution_count": null,
      "outputs": []
    },
    {
      "cell_type": "markdown",
      "metadata": {
        "id": "5rt2Lk80tVdF"
      },
      "source": [
        "Expected output:\n",
        "*   1st note block: [C E G] in succession, but overlapping\n",
        "*   2nd note block: [E G C+1 E+1] simultaneously\n",
        "*   3rd note block: [C E G C+1] simultaneously\n",
        "*   Chromagram: notice the same notes from different octaves are grouped together"
      ]
    },
    {
      "cell_type": "markdown",
      "metadata": {
        "id": "BNX09fydBSqK"
      },
      "source": [
        "---\n",
        "# (6) Mel-Spectrogram\n",
        "The Mel-Spectrogram is based on the Mel scale, a perceptual scale of the pitches. Topics in this section:\n",
        "\n",
        "*   Mel-spectrogram with 128 bands and a f_max of 8000\n",
        "*   Analyse the difference to an STFT-spectrogram"
      ]
    },
    {
      "cell_type": "code",
      "metadata": {
        "id": "El3SHmQICJLs"
      },
      "source": [
        "import librosa\n",
        "import librosa.display\n",
        "import matplotlib.pyplot as plt\n",
        "import numpy as np\n",
        "\n",
        "\n",
        "### Create the Mel-spectrogram from the piano data, then convert it from power to dB\n",
        "piano_mel = ...\n",
        "piano_mel_dB = ...\n",
        "\n",
        "\n",
        "fig, ax = plt.subplots()\n",
        "img = ...  # FILL IN: librosa's specshow()\n",
        "ax.set(title='Mel-Spectrogram')\n",
        "#plt.colorbar(img, ax=ax, format=\"%+2.0f dB\")\n",
        "plt.plot()"
      ],
      "execution_count": null,
      "outputs": []
    },
    {
      "cell_type": "markdown",
      "metadata": {
        "id": "h9UISVC6jwmZ"
      },
      "source": [
        "---\n",
        "# (7) **Building a sound classification system** - First steps\n",
        "---\n",
        "\n",
        "# ESC-50 dataset\n",
        "*   https://github.com/karolpiczak/ESC-50\n",
        "*   Dataset for Environmental Sound Classification\n",
        "*   We choose 5 classes, and 2 should be very similar to each other\n",
        "\n",
        "In the next AST seminar, we will use these things to build our own first simple sound classification system.\n",
        "\n",
        "\n",
        "\n"
      ]
    }
  ]
}